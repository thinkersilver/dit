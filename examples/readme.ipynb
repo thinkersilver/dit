{
 "cells": [
  {
   "cell_type": "markdown",
   "metadata": {},
   "source": [
    "# Getting Started\n",
    "\n",
    "Markdown is a lightweight markup language for writing documents. It is lightweight, elegant and effective.  Dittio.  Is a markdown publishing system which generates a static blog from markdown documents and jupyter noteboks. \n"
   ]
  },
  {
   "cell_type": "markdown",
   "metadata": {
    "collapsed": true
   },
   "source": [
    "\n",
    "\n",
    "##  Publish a notebook \n",
    "\n",
    "Create a new blog site.\n",
    "\n",
    "``` bash \n",
    "dit site new  mynewsite \n",
    "```\n",
    "\n",
    "\n",
    "Publish the notebook to the new site. \n",
    "```\n",
    "dit publish $PYTHONNOTEBOOK mynewsite \n",
    "```\n",
    "\n",
    "* export markdown \n",
    "* exports code \n",
    "* extracts images \n",
    "* stages posts in the blog folder \n",
    "\n",
    "Reindex. \n",
    "\n",
    "\n",
    "```\n",
    "cd mynewsite \n",
    "dit site reindex\n",
    "\n",
    "```\n",
    "\n",
    "start the site \n",
    "\n",
    "```\n",
    "dit site preview \n",
    "\n",
    "```\n",
    "\n",
    "\n",
    "### Site Preview \n",
    "\n",
    "Should look something like this \n",
    "\n",
    "\n",
    "![](./images/site_preview.png)\n",
    "\n",
    "\n",
    "###  Site Index \n",
    "\n",
    "![](./images/site_index.png)"
   ]
  },
  {
   "cell_type": "code",
   "execution_count": 6,
   "metadata": {},
   "outputs": [
    {
     "name": "stdout",
     "output_type": "stream",
     "text": [
      "Hello World\n"
     ]
    }
   ],
   "source": [
    "#package: pkg_readme\n",
    "#name: dit_getting_started\n",
    "#title: Getting Started \n",
    "\n",
    "print \"Hello World\"\n",
    "import ditio\n"
   ]
  },
  {
   "cell_type": "code",
   "execution_count": null,
   "metadata": {
    "collapsed": true
   },
   "outputs": [],
   "source": []
  }
 ],
 "metadata": {
  "kernelspec": {
   "display_name": "Python 2",
   "language": "python",
   "name": "python2"
  },
  "language_info": {
   "codemirror_mode": {
    "name": "ipython",
    "version": 2
   },
   "file_extension": ".py",
   "mimetype": "text/x-python",
   "name": "python",
   "nbconvert_exporter": "python",
   "pygments_lexer": "ipython2",
   "version": "2.7.12"
  }
 },
 "nbformat": 4,
 "nbformat_minor": 2
}
